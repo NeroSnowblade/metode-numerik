{
  "cells": [
    {
      "cell_type": "markdown",
      "metadata": {
        "id": "GJb17hsdeGJe"
      },
      "source": [
        "# **Interpolasi**"
      ]
    },
    {
      "cell_type": "markdown",
      "metadata": {
        "id": "8MVXZIuufX19"
      },
      "source": [
        "**Lagrange**"
      ]
    },
    {
      "cell_type": "code",
      "execution_count": 25,
      "metadata": {
        "colab": {
          "base_uri": "https://localhost:8080/"
        },
        "id": "mYKkaXr9hzXw",
        "outputId": "bb0f21e7-7564-42bc-c9d3-6b87cf68d291"
      },
      "outputs": [],
      "source": [
        "\n",
        "\n",
        "# Nama     : Ifana Andriansyah\n",
        "# NIM      : 1905044\n",
        "# Kelas    : PILKOM 3-A\n",
        "# Program  : Lagrange Interpolate\n",
        "\n",
        "# Import NumPy Library\n",
        "import numpy as np\n",
        "    \n",
        "# tampilan grafik \n",
        "import matplotlib.pyplot as plt\n",
        "\n",
        "# Memasukan banyak titik\n",
        "n = int(input('Memasukan banyak titik: '))\n",
        "\n",
        "# inisialisasi x\n",
        "x = np.zeros((n))\n",
        "# inisialisasi y\n",
        "y = np.zeros((n))\n",
        "\n",
        "\n",
        "# Masukan data x dan y\n",
        "print('Masukan data x dan y: ')\n",
        "#perulangan untuk input data\n",
        "for i in range(n):\n",
        "    x[i] = float(input( 'x['+str(i)+']=')) # masukan x[i]\n",
        "    y[i] = float(input( 'y['+str(i)+']=')) # masukan y[i]\n",
        "\n",
        "\n",
        "# input masukan yang dicari\n",
        "xp = float(input('masukan input yang mau dicari: '))\n",
        "\n",
        "#sorting data\n",
        "a = np.array([x,y])\n",
        "a.sort()\n",
        "x = a[0]\n",
        "y = a[1]\n",
        "\n",
        "# set data dari 0\n",
        "yp = 0 \n",
        "\n",
        "# algoritma Lagrange\n",
        "for i in range(n): \n",
        "    p = 1\n",
        "    for j in range(n):\n",
        "        if i != j:\n",
        "            p = p * (xp - x[j])/(x[i] - x[j])\n",
        "    yp = yp + p * y[i]\n",
        "\n",
        "# tampilan hasil\n",
        "print('Pada x %.3f mempunyai f(x) atau y  %.3f' % (xp, yp))\n",
        "\n",
        "\n",
        "plt.plot(x, y, marker = '*')\n",
        "plt.plot(xp, yp, marker = 'o')\n",
        "plt.show()"
      ]
    }
  ],
  "metadata": {
    "colab": {
      "provenance": []
    },
    "kernelspec": {
      "display_name": "Python 3.11.1 64-bit",
      "language": "python",
      "name": "python3"
    },
    "language_info": {
      "codemirror_mode": {
        "name": "ipython",
        "version": 3
      },
      "file_extension": ".py",
      "mimetype": "text/x-python",
      "name": "python",
      "nbconvert_exporter": "python",
      "pygments_lexer": "ipython3",
      "version": "3.11.1 (tags/v3.11.1:a7a450f, Dec  6 2022, 19:58:39) [MSC v.1934 64 bit (AMD64)]"
    },
    "vscode": {
      "interpreter": {
        "hash": "8e9712967483a35b46dfb02993fbd80262b83b02d23389248a93b274b21f4bdd"
      }
    }
  },
  "nbformat": 4,
  "nbformat_minor": 0
}
