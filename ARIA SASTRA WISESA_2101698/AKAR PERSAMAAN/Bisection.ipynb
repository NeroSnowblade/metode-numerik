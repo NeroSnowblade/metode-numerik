{
 "cells": [
  {
   "cell_type": "code",
   "execution_count": 20,
   "metadata": {},
   "outputs": [],
   "source": [
    "# Wendi Kardian (2100016)\n",
    "# Pendidikan Ilmu Komputer - A\n",
    "\n",
    "# Pencarian akar menggunakan Bisection Methods\n",
    "\n",
    "import matplotlib.pyplot as plt"
   ]
  },
  {
   "cell_type": "code",
   "execution_count": 21,
   "metadata": {},
   "outputs": [],
   "source": [
    "# Function bisection untuk mencari akar diantara interfal [a, b] menggunakan bisection method\n",
    "# Ada beberapa parameter yang dibutuhkan diantaranya adalah\n",
    "# 1. F = persamaan fungsi yang nanti akan dicari akarnya\n",
    "# 2. a = interval pertama (dari kiri) tebakan lokasi awal akar (jarak awal)\n",
    "# 3. b = interval kedua (dari kanan) tebakan lokasi akhir akar (jarak akhir)\n",
    "# 4. tol = nilai error tolerance yang diizinkan (defaul = ie-9)\n",
    "# 5. maximiter =  nilai maximum total iterasi yang akan dilakukan\n",
    "\n",
    "def bisection(f, a, b, tol=1e-9, maxiter=100):\n",
    "\n",
    "    # check apakah fungsi memiliki tanda yang berlawanan di titik ujungnya. jika dikalikan antara 2 interval maka harus bernilai negatif\n",
    "    if f(a) * f(b) >= 0:\n",
    "        raise ValueError(\"f must have opposite signs at the endpoints\")\n",
    "\n",
    "    # Melakukan iterasi sampai menemukan akar dari nilai total error tolerance dan jumlah maximiter atau maximum iterasi \n",
    "    for i in range(maxiter):\n",
    "        # Dalam proses ini cari nilai tengah dari interval yang sudah ditentukan\n",
    "        # Nilai tengah disimpan ke dalam variable \"C\"\n",
    "        c = (a + b) / 2\n",
    "        # Apabila nilai tengah == 0, berarti nilai akar yang dicari adalah \"C\"\n",
    "        # Function akan mengembalikan nilai C\n",
    "        if f(c) == 0:\n",
    "            return c\n",
    "        # Apabila function nilai C dikatikan dengan function dengan nilai A dikalikan kurang dari 0, maka interval B akan digantikan dengan C (Akar berada di sebelah kiri)\n",
    "        elif f(c) * f(a) < 0:\n",
    "            b = c\n",
    "        # Apabila sebaliknya, maka interval A akan digantikan dengan nilai C (Akar berada di sebelah kanan)\n",
    "        else:\n",
    "            a = c\n",
    "        # Check the tolerance\n",
    "        if abs(b - a) < tol:\n",
    "            return (a + b) / 2\n",
    "\n",
    "    # Return None apabila proses pencarian akar sudah melebihin nilai maximum dari proses iterasi\n",
    "    # Maka akar tidak ditemukan\n",
    "    return None"
   ]
  },
  {
   "cell_type": "code",
   "execution_count": 22,
   "metadata": {},
   "outputs": [],
   "source": [
    "# Nilai fungsi yang nanti akan dicarikan akarnya\n",
    "\n",
    "def f(x):\n",
    "    return x**2 - 2"
   ]
  },
  {
   "cell_type": "code",
   "execution_count": 23,
   "metadata": {},
   "outputs": [
    {
     "name": "stdout",
     "output_type": "stream",
     "text": [
      "Root: 1.414213562\n"
     ]
    },
    {
     "data": {
      "image/png": "[encoded data removed]",
      "text/plain": [
       "<Figure size 640x480 with 1 Axes>"
      ]
     },
     "metadata": {},
     "output_type": "display_data"
    }
   ],
   "source": [
    "# Interval dari nilai yang akan dicari [1,2]\n",
    "a = 1\n",
    "b = 2\n",
    "\n",
    "# Panggil function bisection kemudian isi argumen dengan fungsi dan intervalnya, nilai return akan disimpan ke dalam variable root\n",
    "root = bisection(f, a, b)\n",
    "\n",
    "# Print nilai pada variable root\n",
    "print(f\"Root: {root:.9f}\")\n",
    "\n",
    "# Agar mudah untuk dibayangkan, visualisasikan proses bisection menggunakan library matplotlib\n",
    "x = [i/10 for i in range(10*a, 10*b+1)]\n",
    "y = [f(i) for i in x]\n",
    "plt.plot(x, y)\n",
    "plt.plot([root], [0], 'ro')\n",
    "plt.show()"
   ]
  }
 ],
 "metadata": {
  "kernelspec": {
   "display_name": "Python 3",
   "language": "python",
   "name": "python3"
  },
  "language_info": {
   "codemirror_mode": {
    "name": "ipython",
    "version": 3
   },
   "file_extension": ".py",
   "mimetype": "text/x-python",
   "name": "python",
   "nbconvert_exporter": "python",
   "pygments_lexer": "ipython3",
   "version": "3.9.13"
  },
  "orig_nbformat": 4,
  "vscode": {
   "interpreter": {
    "hash": "4b012d59fd9967520aa1876644e3a9774eee391dbb6584df68e553498820aaf9"
   }
  }
 },
 "nbformat": 4,
 "nbformat_minor": 2
}
