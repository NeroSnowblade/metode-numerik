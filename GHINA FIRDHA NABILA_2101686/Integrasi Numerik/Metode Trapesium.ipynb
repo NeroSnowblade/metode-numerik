{
 "cells": [
  {
   "cell_type": "code",
   "execution_count": 7,
   "metadata": {},
   "outputs": [
    {
     "name": "stdout",
     "output_type": "stream",
     "text": [
      "Integral dengan metode trapesium: 0.784241\n"
     ]
    }
   ],
   "source": [
    "# Nama\t\t: Ghina Firdha Nabila\n",
    "# NIM\t\t: 2101686\n",
    "# Kelas     : PILKOM 3-A\n",
    "# Metode Trapesium\n",
    "\n",
    "# Fungsi Mencari integral untuk f(x) dengan metode trapesium\n",
    "e= 2.71828\n",
    "def f(x):\n",
    "    pepega = eval(fx)\n",
    "    return pepega\n",
    "\n",
    "# Fungsi Algoritma Trapesium\n",
    "def trapezoidal(a,b,n):\n",
    "    h = (b - a) / n\n",
    "    integration = f(a)+f(b)\n",
    "    for i in range(1,n):\n",
    "        k = a + i*h\n",
    "        integration = integration+ 2 * f(k)\n",
    "    integration = integration * h/2\n",
    "    return integration\n",
    "    \n",
    "# Fungsi Input\n",
    "fx = str(input(\"masukan fungsinya : \"))\n",
    "a = float(input(\"Masukkan batas bawah: \"))\n",
    "b = float(input(\"Masukkan batas atas: \"))\n",
    "n = int(input(\"Masukkan jumlah iterasi: \"))\n",
    "\n",
    "# Fungsi Hasil\n",
    "result = trapezoidal(a, b, n)\n",
    "print(\"Integral dengan metode trapesium: %0.6f\" % (result))"
   ]
  }
 ],
 "metadata": {
  "kernelspec": {
   "display_name": "Python 3",
   "language": "python",
   "name": "python3"
  },
  "language_info": {
   "codemirror_mode": {
    "name": "ipython",
    "version": 3
   },
   "file_extension": ".py",
   "mimetype": "text/x-python",
   "name": "python",
   "nbconvert_exporter": "python",
   "pygments_lexer": "ipython3",
   "version": "3.11.0 (main, Oct 24 2022, 18:26:48) [MSC v.1933 64 bit (AMD64)]"
  },
  "orig_nbformat": 4,
  "vscode": {
   "interpreter": {
    "hash": "64924d34f5c95f261818ee0e41d58b43741dcf0b72677c10b726c1fe86046c0c"
   }
  }
 },
 "nbformat": 4,
 "nbformat_minor": 2
}
